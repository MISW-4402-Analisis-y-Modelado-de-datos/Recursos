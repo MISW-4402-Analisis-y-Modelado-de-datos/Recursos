{
 "cells": [
  {
   "cell_type": "markdown",
   "metadata": {},
   "source": [
    "# Tutorial: creación de ETLs incrementales con PySpark"
   ]
  },
  {
   "cell_type": "markdown",
   "metadata": {},
   "source": [
    "## 1. Introducción\t\n",
    "\t¿Qué aprenderá?\n",
    "    En este tutorial aprenderá cómo puede usar PySpark para crear ETLs con historia en las dimensiones y con datos cargados previamente en la bodega de datos. \n",
    "\t\n",
    "\t¿Qué construirá? \n",
    "\tConstruirá una nueva versión del ETL, a partir del ETL del taller anterior. Esta vez incluyendo el manejo de historia para algunas de las dimensiones del modelo multidimensional.\n",
    "    \n",
    "\t¿Para qué?\n",
    "\tDentro  de  procesos  de  ETL,  es común  que se  presenten  dimensiones que puedan  presentar cambios a través del tiempo para las cuales es necesario tener un plan de manejo de historia. Por lo tanto, es esencial saber cómo realizar este manejo en las distintas herramientas de ETLs y por supuesto cargas cuando la bodega de datos tiene datos cargados.\n",
    "    \n",
    "    ¿Qué necesita?\n",
    "    1. Python 3 con pip instalado\n",
    "    2. Jupyter Lab\n",
    "    3. Paquetes: Pyspark (3.0.1) y pandas (1.2.1)\n",
    "    4. Controlador J de MySQL\n",
    "    5. Servidor SQL con base de datos \"WWImporters\" que contenga la dimension \"Producto\""
   ]
  },
  {
   "cell_type": "markdown",
   "metadata": {},
   "source": [
    "En  este tutorial,  utilizará PySpark para crear y ejecutar un ETL incremental con manejo de historia. Para completar esta actividad, es necesario que haya completado la actividad previa de creación de un ETL, pues se hará una extensión de dicho proceso. Se presenta a continuación el modelo multidimensional sin historia, cuyos datos conforman la base que se tiene actualmente "
   ]
  },
  {
   "cell_type": "markdown",
   "metadata": {},
   "source": [
    "![Modelo ordenes](./WWI_modelo_ordenes.PNG)"
   ]
  },
  {
   "cell_type": "markdown",
   "metadata": {},
   "source": [
    "El objetivo de este tutorial es transformar el modelo anterior de forma que incorpore nuevos datos y en particular el manejo de historia de la dimensión Producto, para lo anterior se propone manterner la dimensión original y crear una nueva para el manejo de historia (<i>ProductoHistoria</i>), se espera que despues de este proceso el modelo multidimensional sea el siguiente"
   ]
  },
  {
   "cell_type": "markdown",
   "metadata": {},
   "source": [
    "![Modelo ETL](./Img/ModeloHistoriaTutorial.png)\n",
    "\n",
    "En el caso de la primera carga los valores por defecto para los atributos version, FechaInicial, FechaFinal y ID_Producto serán la fecha en la que se hace la carga, 2199-12-31 y el id de la dimension producto."
   ]
  },
  {
   "cell_type": "markdown",
   "metadata": {},
   "source": [
    "## 2. ETL Incremental para Productos\n",
    "WideWorldImporters ha determinado que existe la posibilidad de que un <i>Producto</i> cambie su precio unitario. En vista de esto, se debe modificar el proceso ETL para manejar los cambios. Se ha decidido que el manejo que se le debe dar a la historia es **tipo 2**. Este tipo implica que la tabla tendrá 3 columnas nuevas: 1. fecha de inicio, 2. fin de vigencia del registro y 3. version, la última es un indicador de cuántos registros hay por cada producto. Un nuevo registro es ingresado cuando se genera un cambio en alguno de los atributos de los que se lleva historia. Esto lleva adicionalmente, a actualizar la columna que maneja la vigencia del Producto (fecha fin).\n",
    "\n",
    "De acuerdo con esto, se debe añadir una serie de  transformaciones en el ETL al final para la dimensión de Producto, es decir, en el bloque 4 del diseño del ETL. Estas transformaciones incluyen las siguientes operaciones: \n",
    "<ol>\n",
    "<li>Leer los datos ya existentes en la bodega o DataWarehouse (Base de datos Estudiante_i) y traer la última versión de cada <i>Producto</i>.</li>\n",
    "<li>Identificar de los Productos reportados por en el negocio en un archivo csv (<i>ReporteNum2_Productos.csv</i>) con corte 2015-01-01, cuáles son nuevos e insertarlos en la bodega o DataWarehouse (Base de datos Estudiante_i) en la tabla ProductoHistoria.</li>\n",
    "<li>Identificar los Productos que cambiaron de precio, para insertar un nuevo registro con el nuevo precio y modificar el registro existente, cambiando el valor del atributo <i>Fecha final</i>.</li>\n",
    "</ol>\n",
    "\n",
    "Este tutorial utiliza el ETL básico y se cambia el código del bloque 4."
   ]
  },
  {
   "cell_type": "code",
   "execution_count": 1,
   "metadata": {},
   "outputs": [],
   "source": [
    "# Configuración servidor base de datos transaccional\n",
    "db_user = 'Estudiante_55'\n",
    "db_psswd = ''"
   ]
  },
  {
   "cell_type": "code",
   "execution_count": 2,
   "metadata": {},
   "outputs": [],
   "source": [
    "source_db_connection_string = 'jdbc:mysql://157.253.236.116:8080/WWImportersTransactional'\n",
    "\n",
    "dest_db_connection_string = 'jdbc:mysql://157.253.236.116:8080/Estudiante_55'\n",
    "\n",
    "# Driver de conexion\n",
    "path_jar_driver = 'C:\\Program Files (x86)\\MySQL\\Connector J 8.0\\mysql-connector-java-8.0.28.jar'"
   ]
  },
  {
   "cell_type": "code",
   "execution_count": 3,
   "metadata": {},
   "outputs": [],
   "source": [
    "import os \n",
    "from pyspark.sql import functions as f, SparkSession, types as t\n",
    "from pyspark.sql.functions import lit\n",
    "from pyspark import SparkContext, SparkConf, SQLContext\n",
    "from pyspark.sql.functions import udf, col, length, isnan, when, count, regexp_replace\n",
    "import mysql.connector\n",
    "from pyspark.sql.window import Window\n",
    "from datetime import datetime"
   ]
  },
  {
   "cell_type": "code",
   "execution_count": 4,
   "metadata": {},
   "outputs": [
    {
     "name": "stderr",
     "output_type": "stream",
     "text": [
      "C:\\ProgramData\\Anaconda3\\envs\\Tutoriales\\lib\\site-packages\\pyspark\\sql\\context.py:79: FutureWarning: Deprecated in 3.0.0. Use SparkSession.builder.getOrCreate() instead.\n",
      "  FutureWarning\n"
     ]
    }
   ],
   "source": [
    "#Configuración de la sesión\n",
    "conf=SparkConf() \\\n",
    "    .set('spark.driver.extraClassPath', path_jar_driver)\n",
    "\n",
    "spark_context = SparkContext(conf=conf)\n",
    "sql_context = SQLContext(spark_context)\n",
    "spark = sql_context.sparkSession"
   ]
  },
  {
   "cell_type": "markdown",
   "metadata": {},
   "source": [
    "### Conexión y carga de datos"
   ]
  },
  {
   "cell_type": "markdown",
   "metadata": {},
   "source": [
    "Se define la función para conexión y cargue de dataframes desde la base de datos origen y luego la función para guardar un dataframe en una tabla de la base de datos destino."
   ]
  },
  {
   "cell_type": "code",
   "execution_count": 5,
   "metadata": {},
   "outputs": [],
   "source": [
    "def obterner_dataframe_desde_csv(_PATH, _sep):\n",
    "    return spark.read.load(_PATH, format=\"csv\", sep=_sep, inferSchema=\"true\", header='true')\n",
    "\n",
    "def obtener_dataframe_de_bd(db_connection_string, sql, db_user, db_psswd):\n",
    "    df_bd = spark.read.format('jdbc')\\\n",
    "        .option('url', db_connection_string) \\\n",
    "        .option('dbtable', sql) \\\n",
    "        .option('user', db_user) \\\n",
    "        .option('password', db_psswd) \\\n",
    "        .option('driver', 'com.mysql.cj.jdbc.Driver') \\\n",
    "        .load()\n",
    "    return df_bd\n",
    "\n",
    "def guardar_db(db_connection_string, df, tabla, db_user, db_psswd):\n",
    "    df.select('*').write.format('jdbc') \\\n",
    "      .mode('append') \\\n",
    "      .option('url', db_connection_string) \\\n",
    "      .option('dbtable', tabla) \\\n",
    "      .option('user', db_user) \\\n",
    "      .option('password', db_psswd) \\\n",
    "      .option('driver', 'com.mysql.cj.jdbc.Driver') \\\n",
    "      .save()"
   ]
  },
  {
   "cell_type": "markdown",
   "metadata": {
    "jp-MarkdownHeadingCollapsed": true,
    "tags": []
   },
   "source": [
    "### BLOQUE 1: Dimensión <i>Empleado</i>"
   ]
  },
  {
   "cell_type": "markdown",
   "metadata": {
    "tags": []
   },
   "source": [
    "#### Extracción"
   ]
  },
  {
   "cell_type": "code",
   "execution_count": null,
   "metadata": {},
   "outputs": [],
   "source": [
    "sql_empleados = '''(SELECT ID_persona AS ID_Empleado, NombreCompleto AS Nombre, EsVendedor FROM WWImportersTransactional.Personas WHERE EsVendedor=1) AS Temp_empleados'''\n",
    "empleados = obtener_dataframe_de_bd(source_db_connection_string, sql_empleados, db_user, db_psswd)\n",
    "empleados.show()"
   ]
  },
  {
   "cell_type": "markdown",
   "metadata": {},
   "source": [
    "#### Transformación"
   ]
  },
  {
   "cell_type": "code",
   "execution_count": null,
   "metadata": {},
   "outputs": [],
   "source": [
    "# TRANSFORMACION\n",
    "empleados = empleados.selectExpr('ID_Empleado as ID_Empleado_T','Nombre')\n",
    "empleados = empleados.withColumn('ID_Empleado_DWH', f.monotonically_increasing_id() + 1)\n",
    "empleados.show(5)"
   ]
  },
  {
   "cell_type": "markdown",
   "metadata": {},
   "source": [
    "#### Carga"
   ]
  },
  {
   "cell_type": "code",
   "execution_count": null,
   "metadata": {},
   "outputs": [],
   "source": [
    "# CARGUE\n",
    "guardar_db(dest_db_connection_string, empleados,'Estudiante_55.Empleado', db_user, db_psswd)"
   ]
  },
  {
   "cell_type": "markdown",
   "metadata": {},
   "source": [
    "Verifique los resultados usando MySQL Workbench"
   ]
  },
  {
   "cell_type": "markdown",
   "metadata": {
    "jp-MarkdownHeadingCollapsed": true,
    "tags": []
   },
   "source": [
    "### BLOQUE 2: Dimensión ciudad. "
   ]
  },
  {
   "cell_type": "markdown",
   "metadata": {},
   "source": [
    "#### Extracción"
   ]
  },
  {
   "cell_type": "code",
   "execution_count": null,
   "metadata": {},
   "outputs": [],
   "source": [
    "#EXTRACCION\n",
    "sql_paises = '''(SELECT ID_Pais, Nombre, Continente, Region, Subregion FROM WWImportersTransactional.Paises) AS Temp_paises'''\n",
    "sql_provincias_estados = '''(SELECT ID_EstadosProvincias AS ID_EstadoProvincia, NombreEstadoProvincia, TerritorioVentas, ID_Pais FROM WWImportersTransactional.EstadosProvincias) AS Temp_estados_provincias'''\n",
    "sql_ciudades = '''(SELECT ID_ciudad as ID_ciudad_T, NombreCiudad, ID_EstadoProvincia, Poblacion FROM WWImportersTransactional.Ciudades) AS Temp_ciudades'''\n",
    "\n",
    "paises = obtener_dataframe_de_bd(source_db_connection_string, sql_paises, db_user, db_psswd)\n",
    "provincias_estados = obtener_dataframe_de_bd(source_db_connection_string, sql_provincias_estados, db_user, db_psswd)\n",
    "ciudades = obtener_dataframe_de_bd(source_db_connection_string, sql_ciudades, db_user, db_psswd)\n",
    "\n",
    "print(ciudades.columns, paises.columns, provincias_estados.columns)"
   ]
  },
  {
   "cell_type": "markdown",
   "metadata": {},
   "source": [
    "#### Transformación"
   ]
  },
  {
   "cell_type": "code",
   "execution_count": null,
   "metadata": {},
   "outputs": [],
   "source": [
    "# TRANSFORMACION\n",
    "ciudades = ciudades.join(provincias_estados, how = 'inner', on = 'ID_EstadoProvincia')\n",
    "ciudades = ciudades.join(paises, how = 'inner', on = 'ID_Pais')\n",
    "ciudades = ciudades.withColumn('ID_Ciudad_DWH', f.monotonically_increasing_id() + 1)\n",
    "ciudades.show(5)"
   ]
  },
  {
   "cell_type": "markdown",
   "metadata": {},
   "source": [
    "#### Carga"
   ]
  },
  {
   "cell_type": "code",
   "execution_count": null,
   "metadata": {},
   "outputs": [],
   "source": [
    "# CARGUE\n",
    "guardar_db(dest_db_connection_string, ciudades,'Estudiante_55.Ciudad', db_user, db_psswd)"
   ]
  },
  {
   "cell_type": "markdown",
   "metadata": {},
   "source": [
    "Verifique los resultados usando MySQL Workbench"
   ]
  },
  {
   "cell_type": "markdown",
   "metadata": {
    "jp-MarkdownHeadingCollapsed": true,
    "tags": []
   },
   "source": [
    "### BLOQUE 3: Dimensión paquete"
   ]
  },
  {
   "cell_type": "markdown",
   "metadata": {},
   "source": [
    "#### Extracción"
   ]
  },
  {
   "cell_type": "code",
   "execution_count": null,
   "metadata": {},
   "outputs": [],
   "source": [
    "#EXTRACCION\n",
    "sql_paquetes = '''(SELECT ID_TipoPaquete AS ID_TipoPaquete_T, TipoPaquete AS Nombre FROM WWImportersTransactional.Paquetes) AS Temp_Paquetes'''\n",
    "\n",
    "paquetes = obtener_dataframe_de_bd(source_db_connection_string, sql_paquetes, db_user, db_psswd)"
   ]
  },
  {
   "cell_type": "markdown",
   "metadata": {},
   "source": [
    "#### Transformación"
   ]
  },
  {
   "cell_type": "code",
   "execution_count": null,
   "metadata": {},
   "outputs": [],
   "source": [
    "paquetes = paquetes.withColumn('ID_TipoPaquete_DWH', f.monotonically_increasing_id() + 1)\n",
    "paquetes.show(5)"
   ]
  },
  {
   "cell_type": "markdown",
   "metadata": {},
   "source": [
    "#### Carga"
   ]
  },
  {
   "cell_type": "code",
   "execution_count": null,
   "metadata": {},
   "outputs": [],
   "source": [
    "# CARGUE\n",
    "guardar_db(dest_db_connection_string, paquetes,'Estudiante_55.TipoPaquete', db_user, db_psswd)"
   ]
  },
  {
   "cell_type": "markdown",
   "metadata": {},
   "source": [
    "Verifique los resultados usando MySQL Workbench"
   ]
  },
  {
   "cell_type": "markdown",
   "metadata": {},
   "source": [
    "### BLOQUE 4: Dimensión producto\n",
    "En términos generales para no afectar la carga realizada en el proceso ETL anterior, vamos a crear una copia de la dimensión Producto y la llamaremos ProductoHistoria. Es esta última en la que realizaremos la nueva carga de datos. En un contexto real lo que se hace es modificar la misma dimensión para manejar la historia y realizar el cargue incremental.\n",
    "\n",
    "En detalle lo que vamos a hacer es:\n",
    "1. Paso 1: Crear y cargar la dimensión ProductoHistoria a partir de los datos de la dimensión Producto agregando las columnas para el manejo de historia tipo 2.\n",
    "2. Paso 2: Ingresar y actualizar los registros que lo requieran en la dimensión ProductoHistoria a partir de la información del  archivo ReporteNum2_Productos.csv. Este reporte lo entrega el negocio a corte 2015-01-01\n",
    "\n",
    "Nota: El paso 1 incluye la creación de la tabla y la carga a partir de la información existente en la dimensión Producto. Este proceso si se hace en PySpark se puede realizar en un solo paso, al guardar un dataframe ya que este proceso incluye la creación de  las tablas en la base de datos. "
   ]
  },
  {
   "cell_type": "markdown",
   "metadata": {},
   "source": [
    "### Paso 1: Crear y cargar la Dimensión ProductoHistoria"
   ]
  },
  {
   "cell_type": "markdown",
   "metadata": {},
   "source": [
    "#### Extracción"
   ]
  },
  {
   "cell_type": "code",
   "execution_count": 6,
   "metadata": {},
   "outputs": [],
   "source": [
    "sql_productos = '''(SELECT * FROM WWImportersTransactional.Producto) AS Temp_productos'''\n",
    "productos = obtener_dataframe_de_bd(source_db_connection_string, sql_productos, db_user, db_psswd)"
   ]
  },
  {
   "cell_type": "markdown",
   "metadata": {},
   "source": [
    "#### Transformación"
   ]
  },
  {
   "cell_type": "code",
   "execution_count": 7,
   "metadata": {},
   "outputs": [
    {
     "name": "stdout",
     "output_type": "stream",
     "text": [
      "+-------------+--------------------+-----+--------+----------------------+-------------------+--------+--------------+-----------------+------------+----------+-------+---------------+\n",
      "|ID_Producto_T|      NombreProducto|Marca|ID_Color|Necesita_refrigeracion|Dias_tiempo_entrega|Impuesto|PrecioUnitario|PrecioRecomendado|FechaInicial|FechaFinal|Version|ID_Producto_DWH|\n",
      "+-------------+--------------------+-----+--------+----------------------+-------------------+--------+--------------+-----------------+------------+----------+-------+---------------+\n",
      "|            1|USB missile launc...| null|    null|                     0|                 14|      15|            25|               37|  2013-01-02|2199-12-31|      1|              1|\n",
      "|            2|USB rocket launch...| null|      12|                     0|                 14|      15|            25|               37|  2013-01-02|2199-12-31|      1|              2|\n",
      "|            3|Office cube peris...| null|       3|                     0|                 14|      15|            19|               28|  2013-01-02|2199-12-31|      1|              3|\n",
      "|            4|USB food flash dr...| null|    null|                     0|                 14|      15|            32|               48|  2013-01-02|2199-12-31|      1|              4|\n",
      "|            5|USB food flash dr...| null|    null|                     0|                 14|      15|            32|               48|  2013-01-02|2199-12-31|      1|              5|\n",
      "+-------------+--------------------+-----+--------+----------------------+-------------------+--------+--------------+-----------------+------------+----------+-------+---------------+\n",
      "only showing top 5 rows\n",
      "\n"
     ]
    }
   ],
   "source": [
    "productosHistoria = productos.withColumn('FechaInicial',lit('2013-01-02'))\n",
    "productosHistoria = productosHistoria.withColumn('FechaFinal',lit('2199-12-31'))\n",
    "productosHistoria = productosHistoria.withColumn('Version', lit(1))\n",
    "productosHistoria = productosHistoria.withColumnRenamed(\"ID_Producto\",\"ID_Producto_T\")\n",
    "productosHistoria = productosHistoria.withColumn('ID_Producto_DWH', f.monotonically_increasing_id() + 1)\n",
    "productosHistoria.show(5)"
   ]
  },
  {
   "cell_type": "markdown",
   "metadata": {},
   "source": [
    "#### Carga inicial de la dimensión ProductoHistoria\n",
    "El cargue inicial solo se realiza una vez, mientras que el incremental se realiza en cada reporte de negocio de datos en un periodo de tiempo"
   ]
  },
  {
   "cell_type": "code",
   "execution_count": 8,
   "metadata": {},
   "outputs": [],
   "source": [
    "# CARGUE\n",
    "guardar_db(dest_db_connection_string, productosHistoria,'Estudiante_55.ProductoHistoria', db_user, db_psswd)"
   ]
  },
  {
   "cell_type": "markdown",
   "metadata": {},
   "source": [
    "### Paso 2: Manejo de historia\n",
    "Los reportes del negocio pueden ser varios a lo largo del tiempo, por ende el cargue incremental se hace con cada reporte que nos entrega el negocio. En cada reporte las versiones de los registros aumentan, por lo que podemos encontrar registros con versión 2, versión 3, versión 4 hasta versión N, siendo N el número de reporte. A continuación vamos a simular el primer reporte dado por el negocio despues del primer cargue, entonces todos los productos que existen en la tabla ProductoHistoria son la primera (y única) versión de los datos."
   ]
  },
  {
   "cell_type": "markdown",
   "metadata": {},
   "source": [
    "#### Extracción"
   ]
  },
  {
   "cell_type": "code",
   "execution_count": 9,
   "metadata": {},
   "outputs": [
    {
     "data": {
      "text/plain": [
       "(70, 227)"
      ]
     },
     "execution_count": 9,
     "metadata": {},
     "output_type": "execute_result"
    }
   ],
   "source": [
    "productosReporte = obterner_dataframe_desde_csv('.\\ReporteNum2_Productos.csv', ',')\n",
    "sql_productosHistoria ='''(SELECT * FROM Estudiante_55.ProductoHistoria) AS Temp_productos'''\n",
    "\n",
    "productosHistoria = obtener_dataframe_de_bd(source_db_connection_string, sql_productosHistoria, db_user, db_psswd)\n",
    "productosReporte.count(), productosHistoria.count()"
   ]
  },
  {
   "cell_type": "markdown",
   "metadata": {},
   "source": [
    "En la bodega de datos (base de datos Estudiante_i), se tienen varias versiones para un mismo Producto en un proceso incremental (N reportes). Sin embargo, para el manejo de historia tipo 2 sólo se necesita la última versión, se utiliza una función Window de PySpark para extraer únicamente la última versión por cada llave primaria de un Producto:"
   ]
  },
  {
   "cell_type": "code",
   "execution_count": 10,
   "metadata": {},
   "outputs": [],
   "source": [
    "#Se utiliza un Window para extraer del dataframe de Productos, por cada ID_Producto, la versión mayor.\n",
    "#Es decir, por cada llave natural, extrae la última versión.\n",
    "window = Window.partitionBy(productosHistoria['ID_producto_T']).orderBy(productosHistoria['Version'].desc())\n",
    "productosHistoria = productosHistoria.select('*', f.rank().over(window).alias('rank')).filter(f.col('rank') == 1) \n",
    "productosHistoria = productosHistoria.drop('rank')"
   ]
  },
  {
   "cell_type": "markdown",
   "metadata": {},
   "source": [
    "#### Transformación\n",
    "hacemos un LEFT JOIN para unir los productos del reporte y los productos de la tabla ProductoHistoria, de manera que se mantienen todos los registros del DataFrame con historia (La primera vez tiene la información cargada en el primer cargue y por ende todas las versiones tienen el valor de 1, FechaInicial 2013-01-02 y FechaFinal 2199-12-31)."
   ]
  },
  {
   "cell_type": "code",
   "execution_count": 11,
   "metadata": {},
   "outputs": [],
   "source": [
    "#Renombra columnas del DataWarehouse, poniendo sujifo _DWH para evitar confusiones\n",
    "productosHistoria = productosHistoria.selectExpr('ID_Producto_T','ID_Producto_DWH','Version as Version_DWH', 'PrecioUnitario as PrecioUnitario_DWH', 'FechaInicial as FechaInicial_DWH', 'FechaFinal as FechaFinal_DWH')\n",
    "\n",
    "#Realiza left join entre productosReporte que se están procesando y productosHistoria en el DW.\n",
    "productosHistoria = productosReporte.withColumnRenamed('ID_Producto', 'ID_Producto_T').join(productosHistoria, how = 'left', on ='ID_Producto_T')"
   ]
  },
  {
   "cell_type": "markdown",
   "metadata": {},
   "source": [
    "Vamos a usar una nueva variable \"ETIQUETA\" que nos indica el tipo de registro para los productos del reporte:\n",
    "- **-1** que representa \"cambios\": un registro que ya existe en ProductoHistoria y que cambio el valor de precio unitario\n",
    "- **0** que representa \"sin cambios\": un registro que ya existe en ProductoHistoria y que no cambio su precio unitario\n",
    "- **1** que representa \"nuevo\": un registro que no existia en ProductoHistoria"
   ]
  },
  {
   "cell_type": "code",
   "execution_count": 12,
   "metadata": {},
   "outputs": [],
   "source": [
    "productosHistoria = productosHistoria.withColumn('ETIQUETA', \n",
    "    f.when(productosHistoria['ID_Producto_DWH'].isNull(), 1)\\\n",
    "    .when((productosHistoria['ID_Producto_DWH'].isNotNull()) \n",
    "          & ((productosHistoria['PrecioUnitario'] == productosHistoria['PrecioUnitario_DWH']) \n",
    "              | (productosHistoria['PrecioUnitario'].isNull() & productosHistoria['PrecioUnitario_DWH'].isNull())\n",
    "          ), 0)\\\n",
    "    .otherwise(-1))"
   ]
  },
  {
   "cell_type": "markdown",
   "metadata": {},
   "source": [
    "Los registros que no han cambiado (ETIQUETA = 0), no deben mantenerse en el DataFrame, por lo que se excluyen:"
   ]
  },
  {
   "cell_type": "code",
   "execution_count": 13,
   "metadata": {},
   "outputs": [],
   "source": [
    "productosHistoria = productosHistoria.where(productosHistoria['ETIQUETA'] != 0)"
   ]
  },
  {
   "cell_type": "markdown",
   "metadata": {},
   "source": [
    "Es necesario insertar nuevos registros al Data Warehouse y, por lo tanto, estos necesitan un nuevo id (ID_Producto_DWH). Para crear el id, primero se encuentra el id máximo de los productos existentes y, paso seguido, se utiliza el máximo junto con la función de PySpark monotonically_increasing_id para crear un nuevo id único para cada uno de los registros del reporte. Este paso también se puede realizar usando secuencias en MYSQL"
   ]
  },
  {
   "cell_type": "code",
   "execution_count": 14,
   "metadata": {},
   "outputs": [],
   "source": [
    "#Encontar llave máxima\n",
    "max_key = productosHistoria.agg({\"ID_Producto_DWH\": \"max\"}).collect()[0][0]\n",
    "    \n",
    "if max_key is None:\n",
    "    max_key = 1\n",
    "    \n",
    "#Nuevos ids\n",
    "productosHistoria = productosHistoria.withColumn('new_id', f.monotonically_increasing_id() + max_key)"
   ]
  },
  {
   "cell_type": "markdown",
   "metadata": {},
   "source": [
    "Ahora, se procede a asignar/cambiar la versión, fecha de inicio y fecha de vencimiento o final a los registros de acuerdo con las categorías previamente determinadas. En este punto ETIQUETA solo puede tomar los valores de 1 y -1. Asignamos a una variable <i>fecha_reporte</i> la fecha del reporte, pues es la fecha en la que las versiones hasta ahora vigentes dejan de estarlo y entran en vigencia las nuevas versiones con los últimos cambios"
   ]
  },
  {
   "cell_type": "code",
   "execution_count": 15,
   "metadata": {},
   "outputs": [],
   "source": [
    "fecha_reporte = '2015-01-01'"
   ]
  },
  {
   "cell_type": "markdown",
   "metadata": {},
   "source": [
    "##### Caso de ETIQUETA=1: Productos nuevos\n",
    "\n",
    "- **Nota 1**: Se asigna Version igual a 1, fecha inicial igual a la fecha de reporte (2015-01-01), fecha final igual a 2199-12-31\n",
    "\n",
    "- **Nota 2**: Note que en la tercera línea de código (FechaFinal_DWH) si la ETIQUETA no es 1, entra al <i>otherwise</i>, en donde actualizamos la fecha final de vigencia de los registros que cambiaron (**caso ETIQUETA=-1**) como la fecha de reporte menos un día, es decir que dejan de ser vigentes hasta el día anterior al reporte. Note que los registros que cambiaron se van a agregar (**En Caso de ETIQUETA=-1: Productos que cambiaron**) como nuevos registros a la tabla con una versión posterior a la que existia, la fecha inicial como la del reporte y la final como 2199-12-31, es decir los productos que cambiaron se van a insertar como una nueva versión de los productos que ya existian.\n",
    "\n",
    "- **Nota 3**: En la última línea de código estamos creando una segunda variable indicadora A_INSERTAR que toma el valor de 1 para registros que se van a INSERTAR directamente en la tabla ProductoHistoria y 0 para los que se van a actualizar (los productos que dejan de estar en vigencia). En el caso ETIQUETA=1, estamos diciendo que todos los productos nuevos se van a insertar directamente, mientras que, por ahora, los que cambiaron se van a actualizar"
   ]
  },
  {
   "cell_type": "code",
   "execution_count": 16,
   "metadata": {},
   "outputs": [],
   "source": [
    "# Caso 1: Registros nuevos se asigna version igual a 1, fecha inicial la actual y fecha final 2199-12-31\n",
    "# Note que aqui no cambiamos los valores en el otherwise dado que perderiamos la historia al sobreescribir la información con la de los registros que cambiaron\n",
    "productosHistoria = productosHistoria.withColumn('Version_DWH', f.when(productosHistoria['ETIQUETA'] == 1, 1).otherwise(productosHistoria['Version_DWH']))\n",
    "productosHistoria = productosHistoria.withColumn('FechaInicial_DWH', f.when(productosHistoria['ETIQUETA'] == 1, f.to_date(f.lit(fecha_reporte), 'yyyy-MM-dd')).otherwise(productosHistoria['FechaInicial_DWH']))\n",
    "# En el otherwise estamos actualizando la fecha final del Caso -1: si son registros que ya existian y cambiaron, su fecha final será la fecha actual menos un dia\n",
    "productosHistoria = productosHistoria.withColumn('FechaFinal_DWH', f.when(productosHistoria['ETIQUETA'] == 1, f.to_date(f.lit('2199-12-31'), 'yyyy-MM-dd')).otherwise(f.to_date(f.lit(fecha_reporte), 'yyyy-MM-dd')-1))\n",
    "productosHistoria = productosHistoria.withColumn('A_INSERTAR', f.when(productosHistoria['ETIQUETA'] == 1, 1).otherwise(0))"
   ]
  },
  {
   "cell_type": "markdown",
   "metadata": {},
   "source": [
    "##### Caso de ETIQUETA=-1: Productos que cambiaron\n",
    "\n",
    "- **Nota 4**: Para los productos que cambiaron tenemos dos subcasos: el registro con el cambio que va a ser una nueva versión y que no existe en la base de datos y los registros de esos productos que cambiaron que si existian en la base de datos que dejan de estar vigentes, en cuyo caso hay que actualizar la FechaFinal\n",
    "\n",
    "- **Nota 5**: Dada la nota 4, lo primero que hacemos es separar los registros que cambiaron y almacenarlos en un dataframe diferente, es decir aquellos con ETIQUETA=-1. Luego asignamos como versión nueva el valor de la versión anterior más 1; como fecha inicial la fecha de reporte de los datos, como fecha final 2199-12-31 \n",
    "\n",
    "- **Nota 6**: En este caso la variable A_INSERTAR toma el valor de 1, es decir todos estos registros que son las nuevas versiones de productos que ya existian, se van a insertar directamente en la tabla ProductoHistoria\n"
   ]
  },
  {
   "cell_type": "code",
   "execution_count": 17,
   "metadata": {},
   "outputs": [],
   "source": [
    "#caso -1: Los registros ya existian pero cambiaron: no se van a insertar, se van a actualizar\n",
    "# Separamos los productos que cambiaron, creando una copia de los productos cuya ETIQUETA=-1\n",
    "productos_nuevas_versiones = productosHistoria.where(productosHistoria['ETIQUETA'] == -1)\n",
    "# Asignamos a estos registros una versión igual a la última+1, fecha inicial de vigencia del registro: la fecha actual, y como fecha final 2199-12-31\n",
    "productos_nuevas_versiones = productos_nuevas_versiones.withColumn('Version_DWH', productos_nuevas_versiones['Version_DWH'] + 1)\n",
    "productos_nuevas_versiones = productos_nuevas_versiones.withColumn('FechaInicial_DWH', f.to_date(f.lit(fecha_reporte), 'yyyy-MM-dd'))\n",
    "productos_nuevas_versiones = productos_nuevas_versiones.withColumn('FechaFinal_DWH', f.to_date(f.lit('2199-12-31'), 'yyyy-MM-dd'))\n",
    "productos_nuevas_versiones = productos_nuevas_versiones.withColumn('A_INSERTAR',f.lit(1))"
   ]
  },
  {
   "cell_type": "markdown",
   "metadata": {},
   "source": [
    "Finalmente, unimos los dos dataframes, de manera que la variable A_INSERTAR toma dos valores: 1 o 0. 1 son los registros que se van a insertar directamente, estos son los productos nuevos y las versiones nuevas de los productos que ya existian pero cambiaron. 0 son los registros de las últimas versiones que habian en la base de datos de los productos que cambiaron cuya FechaFinal se va a actualizar pues dejan de estar en vigencia"
   ]
  },
  {
   "cell_type": "code",
   "execution_count": 18,
   "metadata": {},
   "outputs": [],
   "source": [
    "# Unir los DataFrames con los registros nuevos, los registros de versiones anteriores y los registros que son nuevas versiones de registros existentes\n",
    "productosHistoria = productosHistoria.union(productos_nuevas_versiones)"
   ]
  },
  {
   "cell_type": "markdown",
   "metadata": {},
   "source": [
    "Ahora, para hacer la actualización y posteriormente la inserción se divide el DataFrame en dos, una parte conteniendo los registros a actualizarse y otra los registros a insertar:"
   ]
  },
  {
   "cell_type": "code",
   "execution_count": 19,
   "metadata": {},
   "outputs": [],
   "source": [
    "# Persiste DF para obligar ejecución de grafo de computación. \n",
    "# Este persist es independiente de la base de datos, es más sobre pasar de memoria a disco el dataframe\n",
    "productosHistoria.persist()\n",
    "productosHistoria = productosHistoria.selectExpr('new_id as ID_Producto_DWH',  'NombreProducto', 'Necesita_refrigeracion', 'Dias_tiempo_entrega', 'Impuesto', \\\n",
    "                                 'PrecioUnitario', 'PrecioRecomendado','ID_Color', 'Marca', 'ID_PRODUCTO_T', 'Version_DWH as Version',\\\n",
    "                                 'FechaInicial_DWH as FechaInicial', 'FechaFinal_DWH as FechaFinal', 'A_INSERTAR')\n",
    "\n",
    "#Separar en registros que se deben insertar y registros que se deben actualizar.\n",
    "productos_inserts = productosHistoria.where(productosHistoria['A_INSERTAR'] == 1)\n",
    "productos_updates = productosHistoria.where(productosHistoria['A_INSERTAR'] == 0)\n",
    "\n",
    "productos_inserts = productos_inserts.drop('A_INSERTAR')\n",
    "productos_updates = productos_updates.drop('A_INSERTAR')"
   ]
  },
  {
   "cell_type": "markdown",
   "metadata": {},
   "source": [
    "#### Carga incremental de la dimensión ProductoHistoria\n",
    "Primero hacemos la **actualización**, dado que hay menos registros en la tabla, la búsqueda y actualización es menor comparado a si lo hicieramos después de insertar los productos nuevos. La actualización es un poco más compleja que la inserción directa, puesto que Spark no lo soporta. Por lo tanto, el proceso se realiza en la base de datos, para lo cual se procede a insertar los registros en una tabla auxiliar (ProductoHistoria_Update), se ejecuta una sentencia SQL UPDATE para actualizar la tabla de la dimensión ProductoHistoria a partir de esta tabla auxiliar, cuyos registros son borrados al final con una sentencia TRUNCATE."
   ]
  },
  {
   "cell_type": "code",
   "execution_count": 20,
   "metadata": {},
   "outputs": [],
   "source": [
    "#Insertar en tabla auxiliar (ProductoHistoria_Update)\n",
    "guardar_db(dest_db_connection_string, productos_updates,'Estudiante_55.ProductoHistoria_Update', db_user, db_psswd)"
   ]
  },
  {
   "cell_type": "code",
   "execution_count": 21,
   "metadata": {},
   "outputs": [
    {
     "name": "stdout",
     "output_type": "stream",
     "text": [
      "<mysql.connector.connection_cext.CMySQLConnection object at 0x000001B2958690C8>\n"
     ]
    }
   ],
   "source": [
    "#Ejecutar sentencia SQL UPDATE\n",
    "import mysql.connector\n",
    "\n",
    "mydb = mysql.connector.connect(\n",
    "  host=\"157.253.236.116\",\n",
    "  port=\"8080\",\n",
    "  user=\"Estudiante_55\",\n",
    "  passwd=\"\",\n",
    "  database=\"Estudiante_55\",\n",
    ")\n",
    "cur = mydb.cursor()\n",
    "\n",
    "print(mydb)\n",
    "res = cur.execute(\"\"\"\n",
    "    UPDATE ProductoHistoria \n",
    "    INNER JOIN ProductoHistoria_Update AS Table_Updates\n",
    "        ON ProductoHistoria.ID_Producto_T = Table_Updates.ID_Producto_T\n",
    "    SET ProductoHistoria.FechaFinal = Table_Updates.FechaFinal;\n",
    "\"\"\")\n",
    "res = cur.execute(\"\"\"TRUNCATE TABLE ProductoHistoria_Update;\"\"\")\n",
    "mydb.commit()\n",
    "cur.close()\n",
    "mydb.close()"
   ]
  },
  {
   "cell_type": "markdown",
   "metadata": {},
   "source": [
    "Finalmente, hacemos la **inserción** de productos nuevos y de las nuevas versiones"
   ]
  },
  {
   "cell_type": "code",
   "execution_count": 26,
   "metadata": {},
   "outputs": [],
   "source": [
    "guardar_db(dest_db_connection_string, productos_inserts,'Estudiante_55.ProductoHistoria', db_user, db_psswd)"
   ]
  },
  {
   "cell_type": "markdown",
   "metadata": {
    "tags": []
   },
   "source": [
    "### BLOQUE 5: Dimensión cliente"
   ]
  },
  {
   "cell_type": "markdown",
   "metadata": {},
   "source": [
    "#### Extracción"
   ]
  },
  {
   "cell_type": "code",
   "execution_count": null,
   "metadata": {},
   "outputs": [],
   "source": [
    "sql_categoriasCliente = '''(SELECT ID_Categoria, NombreCategoria FROM WWImportersTransactional.CategoriasCliente) AS Temp_categoriasclientes'''\n",
    "sql_gruposCompra = '''(SELECT ID_GrupoCompra, NombreGrupoCompra FROM WWImportersTransactional.GruposCompra) AS Temp_gruposcompra'''\n",
    "sql_clientes = '''(SELECT ID_Cliente AS ID_Cliente_T, Nombre, ClienteFactura, ID_Categoria, ID_GrupoCompra, ID_CiudadEntrega, LimiteCredito, FechaAperturaCuenta, DiasPago FROM WWImportersTransactional.Clientes) AS Temp_clientes'''\n",
    "\n",
    "categoriasCliente = obtener_dataframe_de_bd(source_db_connection_string, sql_categoriasCliente, db_user, db_psswd)\n",
    "gruposCompra = obtener_dataframe_de_bd(source_db_connection_string, sql_gruposCompra, db_user, db_psswd)\n",
    "clientes = obtener_dataframe_de_bd(source_db_connection_string, sql_clientes, db_user, db_psswd)"
   ]
  },
  {
   "cell_type": "markdown",
   "metadata": {},
   "source": [
    "#### Transformación"
   ]
  },
  {
   "cell_type": "code",
   "execution_count": null,
   "metadata": {},
   "outputs": [],
   "source": [
    "# TRANSFORMACION\n",
    "clientes = clientes.join(gruposCompra, how = 'inner', on = 'ID_GrupoCompra')\n",
    "clientes = clientes.join(categoriasCliente, how = 'inner', on = 'ID_Categoria')\n",
    "clientes = clientes.withColumn('ID_Cliente_DWH', f.monotonically_increasing_id() + 1)\n",
    "clientes.show()"
   ]
  },
  {
   "cell_type": "markdown",
   "metadata": {},
   "source": [
    "#### Carga"
   ]
  },
  {
   "cell_type": "code",
   "execution_count": null,
   "metadata": {},
   "outputs": [],
   "source": [
    "# CARGUE\n",
    "guardar_db(dest_db_connection_string,clientes,'Estudiante_55.Cliente', db_user, db_psswd)"
   ]
  },
  {
   "cell_type": "markdown",
   "metadata": {},
   "source": [
    "Verifique los resultados usando MySQL Workbench"
   ]
  },
  {
   "cell_type": "markdown",
   "metadata": {
    "tags": []
   },
   "source": [
    "### BLOQUE 6: Hecho orden"
   ]
  },
  {
   "cell_type": "markdown",
   "metadata": {},
   "source": [
    "#### Extracción"
   ]
  },
  {
   "cell_type": "code",
   "execution_count": null,
   "metadata": {},
   "outputs": [],
   "source": [
    "sql_ordenes = '''(SELECT * FROM WWImportersTransactional.Ordenes) AS Temp_ordenes'''\n",
    "sql_detallesOrdenes = '''(SELECT * FROM WWImportersTransactional.DetallesOrdenes) AS Temp_detallesordenes'''\n",
    "ordenes = obtener_dataframe_de_bd(source_db_connection_string, sql_ordenes, db_user, db_psswd)\n",
    "detallesOrdenes = obtener_dataframe_de_bd(source_db_connection_string, sql_detallesOrdenes, db_user, db_psswd)"
   ]
  },
  {
   "cell_type": "markdown",
   "metadata": {},
   "source": [
    "#### Transformación\n",
    "Estas son las respuestas de Wide World Importers a los conclusiones obtenidas en el entendimiento de los datos:\n",
    "- La regla de negocio \"La tasa de impuesto es de 10% o 15%\" es correcta, pero habian errores en la tabla original, que fueron corregidos. \n",
    "- Para la segunda regla de negocio: \"Son 73.595 órdenes detalladas en 231.412 lineas de detalle de órdenes realizadas desde 2013\", si faltaban datos, los cuales fueron completados, y nos dicen que en cuanto a consistencia ellos revisaron las tablas e hicieron correcciones, pero que los duplicados completos de ordenes los eliminemos\n",
    "- \"El formato de fechas manejado es YYYY-MM-DD HH:MM:SS si tienen hora, minutos y segundos. De lo contrario el formato es YYYY-MM-DD\": En cuanto a formatos de fechas estan de acuerdo con que los estandarizemos y el formato sea el especificado en la regla\n",
    "- Para las descripciones de productos que eran \"a\", se actualizaron a los valores reales. \n",
    "- Se pueden eliminar las columnas Comenarios, Instrucciones_de_entrega y comentarios_internos porque estan vacias. \n",
    "- A pesar de estar en un proceso de mejorar la calidad de los datos y mantener los nulos nos ayudaría a reflejar esa calidad, de la mano con el grupo de analitica de WWI se decide imputar por la media el valor extremo de la variable Cantidad\n",
    "- Para las ordenes las columnas Seleccionado_por_ID_de_persona, ID_de_pedido_pendiente, Seleccion_completada_cuando, y para las columnas Seleccion_completada_cuando de la tabla detalles de ordenes, se decide mantener los valores vacíos, sin embargo para la variable Precio_unitario el negocio reviso y complemento los valores faltantes\n",
    "\n",
    "Las tablas usadas en el tutorial de entendimiento de datos estaran disponibles para su revision con los siguientes nombres: OrdenesCopia y DetallesOrdenesCopia. \n",
    "\n",
    "Para este tutorial vamos a trabajar con unas tablas que dadas las conclusiones del tutorial de entendimiento, WWImporters revisó los datos originales, creo tablas y las llamo \"Ordenes\" y \"DetallesOrdenes\""
   ]
  },
  {
   "cell_type": "markdown",
   "metadata": {},
   "source": [
    "Se hace una verificación de los valores de la tasa de impuesto"
   ]
  },
  {
   "cell_type": "code",
   "execution_count": null,
   "metadata": {},
   "outputs": [],
   "source": [
    "detallesOrdenes.select(\"Tasa_de_impuesto\").distinct().show()"
   ]
  },
  {
   "cell_type": "markdown",
   "metadata": {},
   "source": [
    "Se hace una verificación del rango de fechas disponible en los datos"
   ]
  },
  {
   "cell_type": "code",
   "execution_count": null,
   "metadata": {},
   "outputs": [],
   "source": [
    "ordenes.agg({\"Fecha_de_pedido\": \"min\"}).show()"
   ]
  },
  {
   "cell_type": "markdown",
   "metadata": {},
   "source": [
    "Se elimina columnas Comenarios, Instrucciones_de_entrega y comentarios_internos"
   ]
  },
  {
   "cell_type": "code",
   "execution_count": null,
   "metadata": {},
   "outputs": [],
   "source": [
    "ordenes = ordenes.drop(*[\"Comentarios\", \"Instrucciones_de_entrega\",\"comentarios_internos\"])"
   ]
  },
  {
   "cell_type": "markdown",
   "metadata": {},
   "source": [
    "Se eliminan duplicados totales de ordenes"
   ]
  },
  {
   "cell_type": "code",
   "execution_count": null,
   "metadata": {},
   "outputs": [],
   "source": [
    "print((ordenes.count(),ordenes.distinct().count()))"
   ]
  },
  {
   "cell_type": "code",
   "execution_count": null,
   "metadata": {},
   "outputs": [],
   "source": [
    "ordenes = ordenes.drop_duplicates()"
   ]
  },
  {
   "cell_type": "code",
   "execution_count": null,
   "metadata": {},
   "outputs": [],
   "source": [
    "print((ordenes.count(),ordenes.distinct().count()))"
   ]
  },
  {
   "cell_type": "markdown",
   "metadata": {},
   "source": [
    "Se hace verificación de consistencia"
   ]
  },
  {
   "cell_type": "code",
   "execution_count": null,
   "metadata": {},
   "outputs": [],
   "source": [
    "#consistencia: revisar genially: definicion de consistencia\n",
    "ids_ordenes = set([x.ID_de_pedido for x in ordenes.select('ID_de_pedido').collect()])\n",
    "ids_detalles = set([x.ID_de_pedido for x in detallesOrdenes.select('ID_de_pedido').collect()])\n",
    "\n",
    "len(ids_ordenes-ids_detalles), len(ids_detalles-ids_ordenes)"
   ]
  },
  {
   "cell_type": "markdown",
   "metadata": {},
   "source": [
    "En el siguiente código para el manejo de fechas, pasamos del formato MM dd,YYYY al formato establecido en la regla de negocio<br>"
   ]
  },
  {
   "cell_type": "code",
   "execution_count": null,
   "metadata": {},
   "outputs": [],
   "source": [
    "# TRANSFORMACION\n",
    "regex = \"([0-2]\\d{3}-(0[1-9]|1[0-2])-(0[1-9]|[1-2][0-9]|3[0-1]))\"\n",
    "cumplenFormato = ordenes.filter(ordenes[\"Fecha_de_pedido\"].rlike(regex))\n",
    "noCumplenFormato = ordenes.filter(~ordenes[\"Fecha_de_pedido\"].rlike(regex))\n",
    "print(noCumplenFormato.count(), cumplenFormato.count())\n",
    "print(noCumplenFormato.show(5))\n",
    "noCumplenFormato = noCumplenFormato.withColumn('Fecha_de_pedido', f.udf(lambda d: datetime.strptime(d, '%b %d,%Y').strftime('%Y-%m-%d'), t.StringType())(f.col('Fecha_de_pedido')))\n",
    "ordenes = noCumplenFormato.union(cumplenFormato)\n",
    "noCumplenFormato.count(), ordenes.count()"
   ]
  },
  {
   "cell_type": "markdown",
   "metadata": {},
   "source": [
    "Descripciones\n"
   ]
  },
  {
   "cell_type": "code",
   "execution_count": null,
   "metadata": {},
   "outputs": [],
   "source": [
    "detallesOrdenes.where(length(col(\"Descripcion\")) <= 10).show()"
   ]
  },
  {
   "cell_type": "markdown",
   "metadata": {},
   "source": [
    "Imputar valor maximo de cantidad"
   ]
  },
  {
   "cell_type": "code",
   "execution_count": null,
   "metadata": {},
   "outputs": [],
   "source": [
    "detallesOrdenes.select('Cantidad').sort(col(\"Cantidad\").desc()).collect()[1]"
   ]
  },
  {
   "cell_type": "code",
   "execution_count": null,
   "metadata": {},
   "outputs": [],
   "source": [
    "detallesOrdenes = detallesOrdenes.replace( 10000000, 360, 'Cantidad')"
   ]
  },
  {
   "cell_type": "code",
   "execution_count": null,
   "metadata": {},
   "outputs": [],
   "source": [
    "detallesOrdenes.select('Cantidad').sort(col(\"Cantidad\").desc()).collect()[0]"
   ]
  },
  {
   "cell_type": "markdown",
   "metadata": {},
   "source": [
    "Se unen los dos dataframes, se verifica que no haya duplicados y si los hay se eliminan"
   ]
  },
  {
   "cell_type": "code",
   "execution_count": null,
   "metadata": {},
   "outputs": [],
   "source": [
    "ordenes = ordenes.join(detallesOrdenes, how = 'inner', on = 'ID_de_pedido')\n",
    "ordenes = ordenes.withColumn('Valor_total',col('Precio_unitario')*col('Cantidad'))\n",
    "ordenes = ordenes.withColumn('Impuestos',col('Valor_total')*col('Tasa_de_impuesto'))\n",
    "ordenes = ordenes.selectExpr('ID_de_pedido as ID_de_pedido_T','ID_Producto','Fecha_de_pedido','ID_de_cliente','ID_de_vendedor','ID_Tipo_Paquete','Cantidad','Valor_total', 'Impuestos')\n",
    "\n",
    "print((ordenes.count(),ordenes.distinct().count()))\n",
    "\n",
    "ordenes = ordenes.drop_duplicates()\n",
    "ordenes = ordenes.withColumnRename('ID_de_pedido_DWH', f.monotonically_increasing_id() + 1)\n",
    "ordenes.show(5)"
   ]
  },
  {
   "cell_type": "markdown",
   "metadata": {},
   "source": [
    "#### Carga"
   ]
  },
  {
   "cell_type": "code",
   "execution_count": null,
   "metadata": {},
   "outputs": [],
   "source": [
    "# CARGUE\n",
    "inferior = 0\n",
    "superior = 999\n",
    "j=0\n",
    "total = ordenes.count()/1000\n",
    "print(total)\n",
    "collected = ordenes.collect()\n",
    "while j<total:\n",
    "    if j%50==0:\n",
    "        print(j)\n",
    "    j += 1\n",
    "    aux = spark.createDataFrame(collected[inferior:superior],ordenes.columns)\n",
    "    guardar_db(dest_db_connection_string, aux,'Estudiante_55.HechoOrden', db_user, db_psswd)\n",
    "    inferior+=1000\n",
    "    superior+=1000"
   ]
  },
  {
   "cell_type": "markdown",
   "metadata": {},
   "source": [
    "Verifique los resultados usando MySQL Workbench"
   ]
  },
  {
   "cell_type": "markdown",
   "metadata": {},
   "source": [
    "# Resultado de consultas\n",
    "Corresponde a las consultas realizadas sobre las tablas, para mostrar el estado final de las tablas pobladas como resultado del proceso de ETL."
   ]
  },
  {
   "cell_type": "markdown",
   "metadata": {},
   "source": [
    "# 3. Tarea ETL\n",
    "Espacio para desarrollar la tarea planteada"
   ]
  },
  {
   "cell_type": "code",
   "execution_count": null,
   "metadata": {},
   "outputs": [],
   "source": []
  },
  {
   "cell_type": "markdown",
   "metadata": {},
   "source": [
    "## 4. Cierre\n",
    "Completado este tutorial, sabe cómo configurar y realizar ETLs con historia en PySpark.\n"
   ]
  },
  {
   "cell_type": "markdown",
   "metadata": {},
   "source": [
    "## 5. Información adicional\n",
    "\n",
    "Si quiere conocer más sobre PySpark la guía más detallada es la documentación oficial, la cual puede encontrar acá: https://spark.apache.org/docs/latest/api/python/index.html <br>\n",
    "Para ir directamente a la documentación de PySpark SQL, donde está la información sobre los DataFrames, haga clic en este enlace: https://spark.apache.org/docs/latest/api/python/pyspark.sql.html <br>\n",
    "\n",
    "Para saber más sobre las técnicas de manejo de historia, consulte el libro <i>The  Data Warehouse Toolkit</i> de Ralph Kimball y Margy Ross,que podrá encontrar en la biblioteca de la universidad."
   ]
  },
  {
   "cell_type": "markdown",
   "metadata": {},
   "source": [
    "## 6. Preguntas frecuentes\n",
    "\n",
    "- Si al intentar escribir un <i>dataframe</i> obtiene un error en el formato: \n",
    "    ```\n",
    "    path file:<PATH>/dw/<PATH> already exists.;\n",
    "    ```\n",
    "    Borre la carpeta indicada en el error y vuelva a intentar.\n",
    "\n",
    "- Si al ejecutar su código obtiene el error: \n",
    "    ```\n",
    "    ValueError: Cannot run multiple SparkContexts at once; existing SparkContext(app=tutorial ETL PySpark, master=local) created by __init__ at <ipython-input-4-64455da959dd>:92 \n",
    "\n",
    "    ```\n",
    "    reinicie el kernel del notebook y vuelva a intentar."
   ]
  },
  {
   "cell_type": "code",
   "execution_count": null,
   "metadata": {},
   "outputs": [],
   "source": []
  }
 ],
 "metadata": {
  "kernelspec": {
   "display_name": "Python 3 (ipykernel)",
   "language": "python",
   "name": "python3"
  },
  "language_info": {
   "codemirror_mode": {
    "name": "ipython",
    "version": 3
   },
   "file_extension": ".py",
   "mimetype": "text/x-python",
   "name": "python",
   "nbconvert_exporter": "python",
   "pygments_lexer": "ipython3",
   "version": "3.9.12"
  }
 },
 "nbformat": 4,
 "nbformat_minor": 4
}
